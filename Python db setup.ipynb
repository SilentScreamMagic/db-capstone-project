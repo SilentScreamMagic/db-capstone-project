{
 "cells": [
  {
   "cell_type": "code",
   "execution_count": 12,
   "id": "51208dcf-00fc-457a-8292-773f3e7f738b",
   "metadata": {},
   "outputs": [],
   "source": [
    "import mysql.connector as connector\n",
    "connection = connector.connect(user = \"root\", password = \"swaglesslord@1\", db = \"littlelemondb\") \n",
    "cursor = connection.cursor()"
   ]
  },
  {
   "cell_type": "code",
   "execution_count": 13,
   "id": "f5bed04b-192d-4fa6-8b3e-c6d2bd2c68e5",
   "metadata": {},
   "outputs": [
    {
     "name": "stdout",
     "output_type": "stream",
     "text": [
      "('bookings',)\n",
      "('customer',)\n",
      "('deliverystatus',)\n",
      "('employees',)\n",
      "('menu',)\n",
      "('menuitems',)\n",
      "('orders',)\n",
      "('ordersview',)\n",
      "('person',)\n"
     ]
    }
   ],
   "source": [
    "show_tables_query = \"SHOW tables;\" \n",
    "cursor.execute(show_tables_query)\n",
    "for result in cursor.fetchall():\n",
    "    print(result)"
   ]
  },
  {
   "cell_type": "code",
   "execution_count": 14,
   "id": "9687eee5-f41c-4f0f-b7ee-b04a9a21e221",
   "metadata": {},
   "outputs": [
    {
     "name": "stdout",
     "output_type": "stream",
     "text": [
      "('Jane', 'Soh', '0244128476')\n"
     ]
    }
   ],
   "source": [
    "cursor.execute(\"\"\"SELECT person.firstName, person.lastname, contact from customer\n",
    "inner join person on person.personid = customer.personid\n",
    "inner join bookings on bookings.customerid = customer.customerid\n",
    "inner join orders on bookings.bookingid = orders.bookingid\n",
    "where orders.totalcost > 60;\"\"\")\n",
    "for result in cursor.fetchall():\n",
    "    print(result)"
   ]
  },
  {
   "cell_type": "code",
   "execution_count": null,
   "id": "785f36f2-6b19-41e7-a929-a1b9cefa6c34",
   "metadata": {},
   "outputs": [],
   "source": []
  }
 ],
 "metadata": {
  "kernelspec": {
   "display_name": "Python 3 (ipykernel)",
   "language": "python",
   "name": "python3"
  },
  "language_info": {
   "codemirror_mode": {
    "name": "ipython",
    "version": 3
   },
   "file_extension": ".py",
   "mimetype": "text/x-python",
   "name": "python",
   "nbconvert_exporter": "python",
   "pygments_lexer": "ipython3",
   "version": "3.12.0"
  }
 },
 "nbformat": 4,
 "nbformat_minor": 5
}
